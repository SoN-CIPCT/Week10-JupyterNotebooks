"""
# Introduction to Jupyter Notebooks

## What is a Jupyter Notebook?
Jupyter Notebook is an interactive web-based tool that allows users to create and share documents containing live code, equations, visualizations, and markdown text. It is widely used in data science, machine learning, and scientific computing.

## Why Use Jupyter Notebooks?
- **Interactive Computing**: Run code in small, manageable chunks.
- **Rich Text Support**: Use Markdown to add notes and explanations.
- **Data Visualization**: Easily integrate plots and charts.
- **Code Sharing**: Export notebooks as HTML, PDF, or Python scripts.

## Basic Structure of a Jupyter Notebook
A Jupyter Notebook consists of cells that can contain:
1. **Markdown**: For text, explanations, and documentation.
2. **Code**: Python or other supported programming languages.
3. **Output**: Results of the executed code, including tables, plots, and errors.

---

## Running Code in Jupyter
Let's start with a simple Python example.
"""

# Basic Python in Jupyter
print("Hello, Jupyter!")

"""
## Using Variables in Jupyter
You can define and use variables across multiple cells.
"""

# Defining Variables
x = 10
y = 20
sum_xy = x + y
sum_xy

"""
## Visualizing Data in Jupyter
Jupyter Notebooks support inline plotting using `matplotlib` and other visualization libraries.
"""

import matplotlib.pyplot as plt
import numpy as np

# Generate data
t = np.linspace(0, 10, 100)
y = np.sin(t)

# Create plot
plt.plot(t, y, label='Sine Wave')
plt.xlabel('Time')
plt.ylabel('Amplitude')
plt.title('Example Plot in Jupyter Notebook')
plt.legend()
plt.show()

"""
## Writing Markdown in Jupyter
Jupyter allows you to write formatted text using Markdown. To create a Markdown cell:
1. Click on a cell.
2. Change the cell type to "Markdown" from the dropdown menu.
3. Write Markdown syntax:
   - **Bold text**: `**bold**`
   - *Italic text*: `*italic*`
   - `Inline code`: `` `code` ``
   - Lists:
     - Item 1
     - Item 2
   - Links: `[OpenAI](https://openai.com)`
   - Headers:
     ```
     # Heading 1
     ## Heading 2
     ### Heading 3
     ```

## Conclusion
Jupyter Notebooks provide a powerful and flexible environment for coding, data analysis, and documentation. Explore it further by trying out different code snippets, Markdown formatting, and visualizations!
"""
